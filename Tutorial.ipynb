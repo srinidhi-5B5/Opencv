{
 "cells": [
  {
   "cell_type": "markdown",
   "metadata": {},
   "source": [
    "<div align=\"center\">\n",
    "    <h1>Welcome to OpenCv Workshop</h1>\n",
    "</div>"
   ]
  },
  {
   "cell_type": "markdown",
   "metadata": {},
   "source": [
    "<div align=\"center\"><h5>A python library that makes you fall in love with Image Processing</h5></div>"
   ]
  },
  {
   "cell_type": "markdown",
   "metadata": {},
   "source": [
    "<div align=\"center\">\n",
    "    <img src=\"images/opencv.png\" width=\"650px\" height=\"250px\" />\n",
    "</div>"
   ]
  },
  {
   "cell_type": "markdown",
   "metadata": {},
   "source": [
    "<p>OpenCV-Python is a library of Python bindings designed to solve computer vision problems. OpenCV supports a wide variety of programming languages such as C++, Python, Java, etc., and is available on different platforms including Windows, Linux, OS X, Android, and iOS. Interfaces for high-speed GPU operations based on CUDA and OpenCL are also under active development. OpenCV-Python is the Python API for OpenCV, combining the best qualities of the OpenCV C++ API and the Python language.</p>\n",
    "\n",
    "<h4>Contents</h4>\n",
    "<ul>\n",
    "    <li><a href=\"#c1\">Reading Images and Videos</a></li>\n",
    "    <li><a href=\"#c2\">Resizing and Rescaling</a></li>\n",
    "    <li><a href=\"#c3\">Drawing Shapes and Putting Text</a></li>\n",
    "    <li><a href=\"#c4\">Mouse Events (Using Mouse as Paint Brush)</a></li>\n",
    "</ul>"
   ]
  },
  {
   "cell_type": "code",
   "execution_count": 42,
   "metadata": {},
   "outputs": [],
   "source": [
    "# importing necessary libraries\n",
    "import os\n",
    "import cv2\n",
    "import numpy as np"
   ]
  },
  {
   "cell_type": "markdown",
   "metadata": {},
   "source": [
    "<a id=\"c1\"></a>"
   ]
  },
  {
   "cell_type": "markdown",
   "metadata": {},
   "source": [
    "<h2>Reading Images and Videos</h2>"
   ]
  },
  {
   "cell_type": "markdown",
   "metadata": {},
   "source": [
    "<ol>\n",
    "    <li><b>cv2.imread(path, flag):</b>  This method loads an image from the specified file. If the image cannot be read (because of missing file, improper permissions, unsupported or invalid format) then this method returns an empty matrix.\n",
    "    <ul>\n",
    "        <li>flag=1: It is the default flag. It specifies to load a color image.</li>\n",
    "        <li>flag=0: It specifies to load an image in grayscale mode.</li>\n",
    "        <li>flag=-1: It specifies to load an image as such including alpha channel.</li>\n",
    "    </ul>\n",
    "    </li>\n",
    "    <li><b>cv2.VideoCapture():</b> Class for video capturing from video files, image sequences or cameras.</li>\n",
    "    <li><b>cv2.imshow():</b>  This method is used to display an image in a window. The window automatically fits to the image size.</li>\n",
    "    <li><b>cv2.waitKey():</b> The function waitKey waits for a key event infinitely (when $\\texttt{delay}\\leq 0$) or for delay</li>\n",
    "</ol>"
   ]
  },
  {
   "cell_type": "code",
   "execution_count": 43,
   "metadata": {},
   "outputs": [],
   "source": [
    "IMAGE_PATH = \"./images/csi.png\"\n",
    "VIDEO_PATH = \"./videos/sample_video.mp4\""
   ]
  },
  {
   "cell_type": "code",
   "execution_count": 44,
   "metadata": {},
   "outputs": [
    {
     "name": "stdout",
     "output_type": "stream",
     "text": [
      "<class 'numpy.ndarray'>\n"
     ]
    }
   ],
   "source": [
    "# reading a image\n",
    "\n",
    "image = cv2.imread(IMAGE_PATH)\n",
    "print(type(image))\n",
    "cv2.imshow(\"CSI\", image)\n",
    "\n",
    "# if the input for waitKey function is 0 then the window waits for the user to press any key on keyboard\n",
    "# cv2.waitKey(0)\n",
    "cv2.waitKey(3000)\n",
    "cv2.destroyAllWindows()"
   ]
  },
  {
   "cell_type": "code",
   "execution_count": 47,
   "metadata": {},
   "outputs": [],
   "source": [
    "capture  = cv2.VideoCapture(0)\n",
    "#capture  = cv2.VideoCapture(VIDEO_PATH)\n",
    "\n",
    "while True:\n",
    "    isTrue, frame = capture.read()\n",
    "    cv2.imshow(\"Video\", frame)\n",
    "    if cv2.waitKey(20)==ord('s'):\n",
    "        break\n",
    "\n",
    "capture.release()\n",
    "cv2.destroyAllWindows()"
   ]
  },
  {
   "cell_type": "code",
   "execution_count": 14,
   "metadata": {},
   "outputs": [
    {
     "name": "stdout",
     "output_type": "stream",
     "text": [
      "Type: <class 'numpy.ndarray'>\n",
      "Shape: (250, 250, 3)\n"
     ]
    }
   ],
   "source": [
    "print(f\"Type: {type(image)}\")\n",
    "print(f\"Shape: {image.shape}\")"
   ]
  },
  {
   "cell_type": "markdown",
   "metadata": {},
   "source": [
    "<a id=\"c2\"></a>"
   ]
  },
  {
   "cell_type": "markdown",
   "metadata": {},
   "source": [
    "## Resizing and Rescaling"
   ]
  },
  {
   "cell_type": "markdown",
   "metadata": {},
   "source": [
    "1. <b>cv2.resize():</b> Image resizing refers to the scaling of images. Scaling comes in handy in many image processing as well as machine learning applications. It helps in reducing the number of pixels from an image and that has several advantages e.g. It can reduce the time of training of a neural network as more is the number of pixels in an image more is the number of input nodes that in turn increases the complexity of the model. It also helps in zooming in images. Many times we need to resize the image i.e. either shrink it or scale up to meet the size requirements.<br/>\n",
    "Choice of Interpolation Method for Resizing:\n",
    "<ul>\n",
    "    <li>cv2.INTER_AREA: This is used when we need to shrink an image.</li>\n",
    "    <li>cv2.INTER_CUBIC: This is slow but more efficient.</li>\n",
    "    <li>cv2.INTER_LINEAR: This is primarily used when zooming is required. This is the default interpolation technique in OpenCV.</li>\n",
    "</ul>"
   ]
  },
  {
   "cell_type": "code",
   "execution_count": 48,
   "metadata": {},
   "outputs": [],
   "source": [
    "IMAGE_PATH = \"./images/background.jpg\""
   ]
  },
  {
   "cell_type": "code",
   "execution_count": 49,
   "metadata": {},
   "outputs": [],
   "source": [
    "def resizeImage(frame, target_size = None, scale=0.25):\n",
    "    if target_size is None:\n",
    "        width = frame.shape[1] - int(frame.shape[1] * scale)\n",
    "        height = frame.shape[0] - int(frame.shape[0] * scale)\n",
    "        dimensions = (width, height)\n",
    "    else:\n",
    "        dimensions = target_size\n",
    "    frame = cv2.resize(frame, dimensions, interpolation = cv2.INTER_AREA)\n",
    "    return frame"
   ]
  },
  {
   "cell_type": "code",
   "execution_count": 50,
   "metadata": {},
   "outputs": [
    {
     "name": "stdout",
     "output_type": "stream",
     "text": [
      "Before Rescaling: (873, 1600, 3)\n",
      "After Rescaling: (437, 800, 3)\n"
     ]
    }
   ],
   "source": [
    "# Resizing an Image\n",
    "\n",
    "image = cv2.imread(IMAGE_PATH)\n",
    "print(f\"Before Rescaling: {image.shape}\")\n",
    "cv2.imshow(\"Background\", image)\n",
    "resizedImage = resizeImage(image, scale=0.50)\n",
    "# resizedImage = resizeImage(image, target_size = (800, 400))\n",
    "print(f\"After Rescaling: {resizedImage.shape}\")\n",
    "cv2.imshow(\"Resized Background\", resizedImage)\n",
    "cv2.waitKey(0)\n",
    "cv2.destroyAllWindows()"
   ]
  },
  {
   "cell_type": "code",
   "execution_count": 10,
   "metadata": {},
   "outputs": [],
   "source": [
    "# Resizing video frames\n",
    "\n",
    "# capture  = cv2.VideoCapture(0)\n",
    "capture  = cv2.VideoCapture(VIDEO_PATH)\n",
    "\n",
    "while True:\n",
    "    isTrue, frame = capture.read()\n",
    "#     resized_frame = resizeImage(frame, target_size = (800, 400))\n",
    "    resized_frame = resizeImage(frame, scale = 0.5)\n",
    "    cv2.imshow(\"Video\", frame)\n",
    "    cv2.imshow(\"Resized Video\", resized_frame)\n",
    "    if cv2.waitKey(20) & 0xFF==ord('s'):\n",
    "        break\n",
    "\n",
    "capture.release()\n",
    "cv2.destroyAllWindows()"
   ]
  },
  {
   "cell_type": "markdown",
   "metadata": {},
   "source": [
    "<a id=\"c3\"></a>"
   ]
  },
  {
   "cell_type": "markdown",
   "metadata": {},
   "source": [
    "## Drawing Shapes & Putting Text"
   ]
  },
  {
   "cell_type": "code",
   "execution_count": 51,
   "metadata": {},
   "outputs": [],
   "source": [
    "IMAGE_PATH = \"./images/blank_image.jpg\""
   ]
  },
  {
   "cell_type": "code",
   "execution_count": 52,
   "metadata": {},
   "outputs": [
    {
     "name": "stdout",
     "output_type": "stream",
     "text": [
      "(600, 800, 3)\n"
     ]
    }
   ],
   "source": [
    "image = np.zeros((600,800,3), dtype='uint8')\n",
    "print(image.shape)\n",
    "# print(image)"
   ]
  },
  {
   "cell_type": "code",
   "execution_count": 53,
   "metadata": {},
   "outputs": [],
   "source": [
    "# Painting the Image\n",
    "\n",
    "# image = cv2.imread(IMAGE_PATH)\n",
    "image = np.zeros((600,800,3), dtype='uint8')\n",
    "\n",
    "# Painting the image\n",
    "modified_image = image.copy()\n",
    "# modified_image[:] = 255,0,0\n",
    "\n",
    "# Painting a specific region\n",
    "modified_image[500:600, 500:700] = 0,0,255\n",
    "\n",
    "cv2.imshow(\"Blank Image\", image)\n",
    "cv2.imshow(\"Modified Image\", modified_image)\n",
    "\n",
    "cv2.waitKey(0)\n",
    "cv2.destroyAllWindows()"
   ]
  },
  {
   "cell_type": "code",
   "execution_count": 25,
   "metadata": {},
   "outputs": [],
   "source": [
    "# Drawing Rectangle\n",
    "\n",
    "# image = np.zeros((600,800,3), dtype='uint8')\n",
    "image = cv2.imread(IMAGE_PATH)\n",
    "modified_image = image.copy()\n",
    "\n",
    "# Drawing Rectangle\n",
    "cv2.rectangle(img = modified_image, \n",
    "              pt1 = (100,100),\n",
    "              pt2 = (300,200),\n",
    "              color = (0,0,255),\n",
    "              thickness = 15)\n",
    "\n",
    "# Filling the area inside the shape\n",
    "# cv2.rectangle(img = modified_image, \n",
    "#               pt1 = (100,100),\n",
    "#               pt2 = (300,200),\n",
    "#               color = (255,0,255),\n",
    "#               thickness = cv2.FILLED) # cv2.FILLED or -1\n",
    "\n",
    "cv2.imshow(\"Rectangle\", modified_image)\n",
    "\n",
    "cv2.waitKey(0)\n",
    "cv2.destroyAllWindows()"
   ]
  },
  {
   "cell_type": "code",
   "execution_count": 54,
   "metadata": {},
   "outputs": [],
   "source": [
    "# Drawing Circle\n",
    "\n",
    "image = np.zeros((500,500,3), dtype='uint8')\n",
    "\n",
    "modified_image = image.copy()\n",
    "\n",
    "# Drawing Circle\n",
    "# cv2.circle(img = modified_image,\n",
    "#            center = (250,250), \n",
    "#            radius = 100, \n",
    "#            color = (255,0,0), \n",
    "#            thickness = 3)\n",
    "\n",
    "# Filling the area inside the shape\n",
    "cv2.circle(img = modified_image,\n",
    "           center = (250,250), \n",
    "           radius = 100, \n",
    "           color = (255,0,0), \n",
    "           thickness = -1)\n",
    "\n",
    "cv2.imshow(\"Circle\", modified_image)\n",
    "\n",
    "cv2.waitKey(0)\n",
    "cv2.destroyAllWindows()"
   ]
  },
  {
   "cell_type": "code",
   "execution_count": 29,
   "metadata": {},
   "outputs": [],
   "source": [
    "# Drawing Line\n",
    "\n",
    "image = np.zeros((500,500,3), dtype='uint8')\n",
    "\n",
    "modified_image = image.copy()\n",
    "\n",
    "# Drawing Line\n",
    "cv2.line(img = modified_image, \n",
    "         pt1 = (0,0), \n",
    "         pt2 = (255,255), \n",
    "         color = (0,0,255), \n",
    "         thickness = 2)\n",
    "\n",
    "cv2.imshow(\"Line\", modified_image)\n",
    "\n",
    "cv2.waitKey(0)\n",
    "cv2.destroyAllWindows()"
   ]
  },
  {
   "cell_type": "code",
   "execution_count": 55,
   "metadata": {},
   "outputs": [],
   "source": [
    "# Write Text on Images\n",
    "\n",
    "image = np.zeros((500,500,3), dtype='uint8')\n",
    "\n",
    "# IMAGE_PATH = \"./images/background.jpg\"\n",
    "# image = cv2.imread(IMAGE_PATH)\n",
    "\n",
    "modified_image = image.copy()\n",
    "CONTENT = \"This is written Text\"\n",
    "\n",
    "# Writing on Image\n",
    "cv2.putText(img = modified_image, \n",
    "            text = CONTENT, \n",
    "            org = (75,75), \n",
    "            fontFace = cv2.FONT_HERSHEY_TRIPLEX,\n",
    "            fontScale = 1.0,\n",
    "            color = (0,255,255),\n",
    "            thickness = 1)\n",
    "\n",
    "cv2.imshow(\"Line\", modified_image)\n",
    "\n",
    "cv2.waitKey(0)\n",
    "cv2.destroyAllWindows()"
   ]
  },
  {
   "cell_type": "code",
   "execution_count": 56,
   "metadata": {},
   "outputs": [],
   "source": [
    "# PUTTING ALL TOGETHER\n",
    "\n",
    "image = np.zeros((545,500,3), dtype='uint8')\n",
    "\n",
    "modified_image = image.copy()\n",
    "CONTENT = \"Everything Discussed Till Now\"\n",
    "\n",
    "# Writing on Image\n",
    "cv2.putText(img = modified_image, \n",
    "            text = CONTENT, \n",
    "            org = (75,25), \n",
    "            fontFace = cv2.FONT_HERSHEY_TRIPLEX,\n",
    "            fontScale = 0.7,\n",
    "            color = (0,255,255),\n",
    "            thickness = 1)\n",
    "\n",
    "# Drawing Lines\n",
    "cv2.line(img = modified_image, \n",
    "         pt1 = (0,45), \n",
    "         pt2 = (500,545), \n",
    "         color = (0,0,255), \n",
    "         thickness = 2)\n",
    "\n",
    "cv2.line(img = modified_image, \n",
    "         pt1 = (500,45), \n",
    "         pt2 = (0,545), \n",
    "         color = (0,0,255), \n",
    "         thickness = 2)\n",
    "\n",
    "# Drawing Rectangle\n",
    "cv2.rectangle(img = modified_image, \n",
    "              pt1 = (150,195),\n",
    "              pt2 = (350,395),\n",
    "              color = (255,0,255),\n",
    "              thickness = 3)\n",
    "\n",
    "# Drawing Circle\n",
    "cv2.circle(img = modified_image,\n",
    "           center = (250,294), \n",
    "           radius = 100, \n",
    "           color = (255,255,0), \n",
    "           thickness = -1)\n",
    "\n",
    "cv2.imshow(\"Line\", modified_image)\n",
    "\n",
    "cv2.waitKey(0)\n",
    "cv2.destroyAllWindows()"
   ]
  },
  {
   "cell_type": "markdown",
   "metadata": {},
   "source": [
    "<a id=\"c4\"></a>"
   ]
  },
  {
   "cell_type": "markdown",
   "metadata": {},
   "source": [
    "## Mouse Events (Using Mouse as Paint Brush)"
   ]
  },
  {
   "cell_type": "markdown",
   "metadata": {},
   "source": [
    "<ul>\n",
    "    <li><b>cv2.namedWindow():</b> The function namedWindow creates a window that can be used as a placeholder for images and trackbars. Created windows are referred to by their names.</li>\n",
    "    <li><b>cv2.setMouseCallback():</b> Sets mouse handler for the specified window.</li>\n",
    "</ul>"
   ]
  },
  {
   "cell_type": "code",
   "execution_count": 17,
   "metadata": {},
   "outputs": [
    {
     "name": "stdout",
     "output_type": "stream",
     "text": [
      "EVENT_FLAG_ALTKEY\n",
      "EVENT_FLAG_CTRLKEY\n",
      "EVENT_FLAG_LBUTTON\n",
      "EVENT_FLAG_MBUTTON\n",
      "EVENT_FLAG_RBUTTON\n",
      "EVENT_FLAG_SHIFTKEY\n",
      "EVENT_LBUTTONDBLCLK\n",
      "EVENT_LBUTTONDOWN\n",
      "EVENT_LBUTTONUP\n",
      "EVENT_MBUTTONDBLCLK\n",
      "EVENT_MBUTTONDOWN\n",
      "EVENT_MBUTTONUP\n",
      "EVENT_MOUSEHWHEEL\n",
      "EVENT_MOUSEMOVE\n",
      "EVENT_MOUSEWHEEL\n",
      "EVENT_RBUTTONDBLCLK\n",
      "EVENT_RBUTTONDOWN\n",
      "EVENT_RBUTTONUP\n"
     ]
    }
   ],
   "source": [
    "# Listing out all the events\n",
    "events = [i for i in dir(cv2) if 'EVENT' in i]\n",
    "print( \"\\n\".join(events) )"
   ]
  },
  {
   "cell_type": "code",
   "execution_count": 57,
   "metadata": {},
   "outputs": [],
   "source": [
    "# Creating a function to handle all the mouse events\n",
    "def draw(event, x, y, flag, param):\n",
    "    if event == cv2.EVENT_LBUTTONDOWN:\n",
    "        cv2.circle(image, (x,y), 10, (0,0,255))\n",
    "    \n",
    "    if event == cv2.EVENT_RBUTTONDOWN:\n",
    "        cv2.rectangle(image, (x-10,y-10), (x+10,y+10), (255,0,255))"
   ]
  },
  {
   "cell_type": "code",
   "execution_count": 58,
   "metadata": {},
   "outputs": [],
   "source": [
    "cv2.namedWindow('Window')\n",
    "cv2.setMouseCallback(\"Window\", draw)\n",
    "\n",
    "image = np.zeros((500,500,3), dtype='uint8')\n",
    "\n",
    "while True:\n",
    "    cv2.imshow(\"Window\", image)    \n",
    "    key = cv2.waitKey(1)\n",
    "    if key == ord(\"s\"):\n",
    "        break\n",
    "cv2.destroyAllWindows()"
   ]
  },
  {
   "cell_type": "code",
   "execution_count": 42,
   "metadata": {},
   "outputs": [
    {
     "data": {
      "text/plain": [
       "[84, 212, 57]"
      ]
     },
     "execution_count": 42,
     "metadata": {},
     "output_type": "execute_result"
    }
   ],
   "source": [
    "np.random.randint(255, size = (3)).tolist()"
   ]
  },
  {
   "cell_type": "code",
   "execution_count": 59,
   "metadata": {},
   "outputs": [],
   "source": [
    "CONTINUE_DRAW = False\n",
    "\n",
    "color = tuple(np.random.randint(255, size = (3)).tolist())\n",
    "\n",
    "def draw(event, x, y, flag, param):\n",
    "    \n",
    "    global CONTINUE_DRAW\n",
    "    global color\n",
    "    \n",
    "    if event == cv2.EVENT_LBUTTONDOWN:\n",
    "        CONTINUE_DRAW = True\n",
    "        cv2.circle(image, (x,y), 5, color,-1)\n",
    "    \n",
    "    if event == cv2.EVENT_LBUTTONUP:\n",
    "        CONTINUE_DRAW = False\n",
    "    \n",
    "    if event == cv2.EVENT_MOUSEMOVE:\n",
    "        if CONTINUE_DRAW:\n",
    "            cv2.circle(image, (x,y), 5, color,-1)\n",
    "    \n",
    "    if event == cv2.EVENT_RBUTTONDOWN:\n",
    "        color = tuple(np.random.randint(255, size = (3)).tolist())"
   ]
  },
  {
   "cell_type": "code",
   "execution_count": 60,
   "metadata": {},
   "outputs": [
    {
     "data": {
      "text/plain": [
       "(150, 112, 160)"
      ]
     },
     "execution_count": 60,
     "metadata": {},
     "output_type": "execute_result"
    }
   ],
   "source": [
    "color"
   ]
  },
  {
   "cell_type": "code",
   "execution_count": 61,
   "metadata": {},
   "outputs": [],
   "source": [
    "cv2.namedWindow('Window')\n",
    "cv2.setMouseCallback(\"Window\", draw)\n",
    "\n",
    "image = np.zeros((600,800,3), dtype='uint8')\n",
    "\n",
    "while True:\n",
    "    cv2.imshow(\"Window\", image)    \n",
    "    key = cv2.waitKey(1)\n",
    "    if key == ord(\"c\"):\n",
    "        image = np.zeros((600,800,3), dtype='uint8')\n",
    "    if key == ord(\"s\"):\n",
    "        break\n",
    "cv2.destroyAllWindows()"
   ]
  },
  {
   "cell_type": "code",
   "execution_count": null,
   "metadata": {},
   "outputs": [],
   "source": []
  }
 ],
 "metadata": {
  "kernelspec": {
   "display_name": "Python 3",
   "language": "python",
   "name": "python3"
  },
  "language_info": {
   "codemirror_mode": {
    "name": "ipython",
    "version": 3
   },
   "file_extension": ".py",
   "mimetype": "text/x-python",
   "name": "python",
   "nbconvert_exporter": "python",
   "pygments_lexer": "ipython3",
   "version": "3.7.4"
  }
 },
 "nbformat": 4,
 "nbformat_minor": 4
}
